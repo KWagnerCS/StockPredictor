{
 "cells": [
  {
   "cell_type": "code",
   "execution_count": 1,
   "id": "04e23146-5faf-4ebe-83d3-16f4156cf1e0",
   "metadata": {},
   "outputs": [],
   "source": [
    "# Stock Prediction using tweet sentiment analysis and historical stock data.\n",
    "# Tweets and stock dataset supplied from Kaggle at: https://www.kaggle.com/datasets/equinxx/stock-tweets-for-sentiment-analysis-and-prediction/data\n",
    "# Dataset ranges from Sep 29, 2021 to Sep 29, 2022\n",
    "# 80k+ tweets and stock data for 25 different stocks"
   ]
  },
  {
   "cell_type": "code",
   "execution_count": 2,
   "id": "286c9eec-bea7-46b2-b60b-1e769c851004",
   "metadata": {},
   "outputs": [],
   "source": [
    "# Install and import all packages (use venv)"
   ]
  },
  {
   "cell_type": "code",
   "execution_count": 4,
   "id": "d9357f73-1dc6-4d41-99a9-a09c3905d57d",
   "metadata": {
    "editable": true,
    "slideshow": {
     "slide_type": ""
    },
    "tags": []
   },
   "outputs": [
    {
     "name": "stdout",
     "output_type": "stream",
     "text": [
      "Requirement already satisfied: numpy in d:\\github repos\\cis4930\\stockpredictor\\env\\lib\\site-packages (1.26.1)\n",
      "Note: you may need to restart the kernel to use updated packages.\n"
     ]
    },
    {
     "name": "stderr",
     "output_type": "stream",
     "text": [
      "\n",
      "[notice] A new release of pip available: 22.2.2 -> 23.3.1\n",
      "[notice] To update, run: python.exe -m pip install --upgrade pip\n"
     ]
    }
   ],
   "source": [
    "pip install numpy\n",
    "pip install pandas\n",
    "pip install seaborn\n",
    "pip install nltk\n",
    "pip install matplotlib\n",
    "pip i"
   ]
  },
  {
   "cell_type": "code",
   "execution_count": null,
   "id": "90172e4c-8959-4a90-8b4c-a4b54f0fd04b",
   "metadata": {},
   "outputs": [],
   "source": []
  }
 ],
 "metadata": {
  "kernelspec": {
   "display_name": "Python 3 (ipykernel)",
   "language": "python",
   "name": "python3"
  },
  "language_info": {
   "codemirror_mode": {
    "name": "ipython",
    "version": 3
   },
   "file_extension": ".py",
   "mimetype": "text/x-python",
   "name": "python",
   "nbconvert_exporter": "python",
   "pygments_lexer": "ipython3",
   "version": "3.10.7"
  }
 },
 "nbformat": 4,
 "nbformat_minor": 5
}
