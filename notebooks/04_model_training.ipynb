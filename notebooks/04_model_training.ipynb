{
 "cells": [
  {
   "cell_type": "markdown",
   "id": "6ad30514-bc51-4a7c-8bdf-6756d0571b9f",
   "metadata": {},
   "source": [
    "# Model Training\n",
    "### Load processed data, train models, and evaluate models"
   ]
  },
  {
   "cell_type": "code",
   "execution_count": 6,
   "id": "f4f938a8",
   "metadata": {},
   "outputs": [
    {
     "name": "stdout",
     "output_type": "stream",
     "text": [
      "Requirement already satisfied: tf in c:\\users\\jlaba\\anaconda3\\envs\\venv\\lib\\site-packages (1.0.0)\n"
     ]
    }
   ],
   "source": [
    "!pip install tf"
   ]
  },
  {
   "cell_type": "code",
   "execution_count": 2,
   "id": "4c4b923c-7721-4648-a2d6-46d85ec3ac52",
   "metadata": {},
   "outputs": [],
   "source": [
    "# Data = {X_train:, y_train:, y_test:, X_test:}\n",
    "\n",
    "from sklearn.metrics import mean_squared_error\n",
    "from sklearn.model_selection import GridSearchCV\n",
    "def model_train_eval(model, data, parameters):    \n",
    "    model_temp=GridSearchCV(model, parameters, scoring='accuracy').fit(data[\"X_train\"], data[\"y_train\"])\n",
    "    y_pred=model_temp.predict(data[\"X_test\"])\n",
    "    mse=mean_squared_error(data[\"y_test\"], y_pred)\n",
    "    print(\"Mean Squared Error: \", mse)"
   ]
  },
  {
   "cell_type": "code",
   "execution_count": 9,
   "id": "5818e2cc",
   "metadata": {},
   "outputs": [
    {
     "ename": "NameError",
     "evalue": "name 'data' is not defined",
     "output_type": "error",
     "traceback": [
      "\u001b[1;31m---------------------------------------------------------------------------\u001b[0m",
      "\u001b[1;31mNameError\u001b[0m                                 Traceback (most recent call last)",
      "Cell \u001b[1;32mIn[9], line 3\u001b[0m\n\u001b[0;32m      1\u001b[0m \u001b[38;5;28;01mfrom\u001b[39;00m \u001b[38;5;21;01msklearn\u001b[39;00m\u001b[38;5;21;01m.\u001b[39;00m\u001b[38;5;21;01mlinear_model\u001b[39;00m \u001b[38;5;28;01mimport\u001b[39;00m LinearRegression\n\u001b[0;32m      2\u001b[0m \u001b[38;5;66;03m# The data here needs to be imported from the other data collection notebook\u001b[39;00m\n\u001b[1;32m----> 3\u001b[0m model_train_eval(LinearRegression(), \u001b[43mdata\u001b[49m, {})\n",
      "\u001b[1;31mNameError\u001b[0m: name 'data' is not defined"
     ]
    }
   ],
   "source": [
    "from sklearn.linear_model import LinearRegression\n",
    "# The data here needs to be imported from the other data collection notebook\n",
    "model_train_eval(LinearRegression(), data, {})"
   ]
  },
  {
   "cell_type": "code",
   "execution_count": 4,
   "id": "ed02eec6",
   "metadata": {
    "scrolled": true
   },
   "outputs": [
    {
     "ename": "NameError",
     "evalue": "name 'data' is not defined",
     "output_type": "error",
     "traceback": [
      "\u001b[1;31m---------------------------------------------------------------------------\u001b[0m",
      "\u001b[1;31mNameError\u001b[0m                                 Traceback (most recent call last)",
      "Cell \u001b[1;32mIn[4], line 3\u001b[0m\n\u001b[0;32m      1\u001b[0m \u001b[38;5;28;01mfrom\u001b[39;00m \u001b[38;5;21;01msklearn\u001b[39;00m\u001b[38;5;21;01m.\u001b[39;00m\u001b[38;5;21;01mneural_network\u001b[39;00m \u001b[38;5;28;01mimport\u001b[39;00m MLPRegressor\n\u001b[1;32m----> 3\u001b[0m model_train_eval(MLPRegressor(), \u001b[43mdata\u001b[49m, {})\n",
      "\u001b[1;31mNameError\u001b[0m: name 'data' is not defined"
     ]
    }
   ],
   "source": [
    "from sklearn.neural_network import MLPRegressor\n",
    "\n",
    "model_train_eval(MLPRegressor(), data, {})"
   ]
  },
  {
   "cell_type": "code",
   "execution_count": 8,
   "id": "e9a0dcd7",
   "metadata": {},
   "outputs": [],
   "source": [
    "import tf\n"
   ]
  },
  {
   "cell_type": "code",
   "execution_count": null,
   "id": "ca127db2",
   "metadata": {},
   "outputs": [],
   "source": []
  },
  {
   "cell_type": "code",
   "execution_count": null,
   "id": "3b2f7f1e",
   "metadata": {},
   "outputs": [],
   "source": []
  }
 ],
 "metadata": {
  "kernelspec": {
   "display_name": "Python 3 (ipykernel)",
   "language": "python",
   "name": "python3"
  },
  "language_info": {
   "codemirror_mode": {
    "name": "ipython",
    "version": 3
   },
   "file_extension": ".py",
   "mimetype": "text/x-python",
   "name": "python",
   "nbconvert_exporter": "python",
   "pygments_lexer": "ipython3",
   "version": "3.10.13"
  }
 },
 "nbformat": 4,
 "nbformat_minor": 5
}
