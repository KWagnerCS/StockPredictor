{
 "cells": [
  {
   "cell_type": "markdown",
   "id": "6ad30514-bc51-4a7c-8bdf-6756d0571b9f",
   "metadata": {},
   "source": [
    "# Model Training\n",
    "### Load processed data, train models, and evaluate models"
   ]
  },
  {
   "cell_type": "code",
   "execution_count": 4,
   "id": "4c4b923c-7721-4648-a2d6-46d85ec3ac52",
   "metadata": {},
   "outputs": [],
   "source": [
    "# Data = {X_train:, y_train:, y_test:, X_test:}\n",
    "\n",
    "from sklearn.metrics import mean_squared_error\n",
    "from sklearn.model_selection import GridSearchCV\n",
    "\n",
    "def model_handler(model, data, parameters):    \n",
    "    model_temp=GridSearchCV(model, parameters, scoring='accuracy').fit(data[\"X_train\"], data[\"y_train\"])\n",
    "    y_pred=model_temp.predict(data[\"X_test\"])\n",
    "    mse=mean_squared_error(data[\"y_test\"], y_pred)\n",
    "    print(\"Mean Squared Error: \", mse)"
   ]
  },
  {
   "cell_type": "code",
   "execution_count": 3,
   "id": "5818e2cc",
   "metadata": {},
   "outputs": [],
   "source": [
    "from sklearn.linear_model import LinearRegression\n",
    "\n",
    "model_handler(LinearRegression(), data, )"
   ]
  },
  {
   "cell_type": "code",
   "execution_count": null,
   "id": "ed02eec6",
   "metadata": {},
   "outputs": [],
   "source": [
    "from sklearn.neural_network import MLPRegressor\n",
    "\n",
    "model_handler(MLPRegressor(), data, )"
   ]
  }
 ],
 "metadata": {
  "kernelspec": {
   "display_name": "Python 3 (ipykernel)",
   "language": "python",
   "name": "python3"
  },
  "language_info": {
   "codemirror_mode": {
    "name": "ipython",
    "version": 3
   },
   "file_extension": ".py",
   "mimetype": "text/x-python",
   "name": "python",
   "nbconvert_exporter": "python",
   "pygments_lexer": "ipython3",
   "version": "3.11.4"
  }
 },
 "nbformat": 4,
 "nbformat_minor": 5
}
