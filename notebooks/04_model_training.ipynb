{
 "cells": [
  {
   "cell_type": "markdown",
   "id": "6ad30514-bc51-4a7c-8bdf-6756d0571b9f",
   "metadata": {},
   "source": [
    "# Model Training\n",
    "### Load processed data, train models, and evaluate models"
   ]
  },
  {
   "cell_type": "code",
   "execution_count": null,
   "id": "4c4b923c-7721-4648-a2d6-46d85ec3ac52",
   "metadata": {},
   "outputs": [],
   "source": []
  }
 ],
 "metadata": {
  "kernelspec": {
   "display_name": "Python 3 (ipykernel)",
   "language": "python",
   "name": "python3"
  },
  "language_info": {
   "codemirror_mode": {
    "name": "ipython",
    "version": 3
   },
   "file_extension": ".py",
   "mimetype": "text/x-python",
   "name": "python",
   "nbconvert_exporter": "python",
   "pygments_lexer": "ipython3",
   "version": "3.10.7"
  }
 },
 "nbformat": 4,
 "nbformat_minor": 5
}
