{
 "cells": [
  {
   "cell_type": "markdown",
   "id": "3122a699-8f63-4e07-9f85-f54ef0b926b1",
   "metadata": {},
   "source": [
    "# Data Collection\n",
    "### Download data and basic data exploration"
   ]
  },
  {
   "cell_type": "markdown",
   "id": "773596e0-a4c1-4bb3-8a36-8b1374a36160",
   "metadata": {},
   "source": [
    "#### 1. Intro\n",
    "To get the stock news for specific companies, we will scrape investing.com/equities/(company-name)-news for news. We will get data from 2018-2023."
   ]
  },
  {
   "cell_type": "markdown",
   "id": "29d6f6d9-7c35-485a-92af-d8040ae8eab2",
   "metadata": {},
   "source": [
    "#### Importing libraries"
   ]
  },
  {
   "cell_type": "code",
   "execution_count": null,
   "id": "2cdfd0ed-384f-4974-9b36-87a66ae98240",
   "metadata": {},
   "outputs": [],
   "source": [
    "import pandas as pd\n",
    "import time\n",
    "import numpy as np\n",
    "import requests\n",
    "import nltk\n",
    "from nltk.sentiment.vader import Sentiment"
   ]
  }
 ],
 "metadata": {
  "kernelspec": {
   "display_name": "Python 3 (ipykernel)",
   "language": "python",
   "name": "python3"
  },
  "language_info": {
   "codemirror_mode": {
    "name": "ipython",
    "version": 3
   },
   "file_extension": ".py",
   "mimetype": "text/x-python",
   "name": "python",
   "nbconvert_exporter": "python",
   "pygments_lexer": "ipython3",
   "version": "3.10.7"
  }
 },
 "nbformat": 4,
 "nbformat_minor": 5
}
