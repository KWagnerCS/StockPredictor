{
 "cells": [
  {
   "cell_type": "markdown",
   "id": "3122a699-8f63-4e07-9f85-f54ef0b926b1",
   "metadata": {},
   "source": [
    "# Data Collection\n",
    "### Download data and basic data exploration"
   ]
  },
  {
   "cell_type": "code",
   "execution_count": null,
   "id": "4221cb07-eaff-4212-8eb4-cd5ddaef4d5f",
   "metadata": {},
   "outputs": [],
   "source": []
  }
 ],
 "metadata": {
  "kernelspec": {
   "display_name": "Python 3 (ipykernel)",
   "language": "python",
   "name": "python3"
  },
  "language_info": {
   "codemirror_mode": {
    "name": "ipython",
    "version": 3
   },
   "file_extension": ".py",
   "mimetype": "text/x-python",
   "name": "python",
   "nbconvert_exporter": "python",
   "pygments_lexer": "ipython3",
   "version": "3.10.7"
  }
 },
 "nbformat": 4,
 "nbformat_minor": 5
}
