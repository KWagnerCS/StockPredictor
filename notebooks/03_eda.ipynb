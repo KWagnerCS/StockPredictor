{
 "cells": [
  {
   "cell_type": "markdown",
   "id": "edb6564b-0ddc-499c-9fcd-5fcdfe51cd2c",
   "metadata": {},
   "source": [
    "# Exploratory Data Analysis\n",
    "### Load processed data and explore data for patterns"
   ]
  },
  {
   "cell_type": "markdown",
   "id": "b29c17b8-5ad1-45b1-a241-c9ca2da6f7d3",
   "metadata": {},
   "source": [
    "### 1. Import libraries"
   ]
  },
  {
   "cell_type": "code",
   "execution_count": 1,
   "id": "81c457cf-c1ca-4eb7-bdd0-9636323cec77",
   "metadata": {},
   "outputs": [],
   "source": [
    "import pandas as pd\n",
    "import time\n",
    "import numpy as np\n",
    "import matplotlib.pyplot as plt\n",
    "import matplotlib.dates as dates\n",
    "import seaborn as sns\n",
    "import re\n",
    "import datetime\n",
    "from tqdm import tqdm"
   ]
  },
  {
   "cell_type": "markdown",
   "id": "ad7a1d70-3560-4f35-971d-1ddd5b913d5e",
   "metadata": {},
   "source": [
    "### 2. Load dataframe"
   ]
  },
  {
   "cell_type": "code",
   "execution_count": null,
   "id": "5fba8c5c-d4d1-4db6-95bd-e7d78bedd949",
   "metadata": {},
   "outputs": [],
   "source": [
    "merged_substituted_labeled_df = pd.read_pickle("
   ]
  },
  {
   "cell_type": "code",
   "execution_count": null,
   "id": "876305cc-c58c-47b3-9db0-13fd6a32e431",
   "metadata": {},
   "outputs": [],
   "source": []
  },
  {
   "cell_type": "markdown",
   "id": "e06fc173-12eb-46e3-98d1-f65011d5eb15",
   "metadata": {},
   "source": [
    "### 3. Explore data"
   ]
  },
  {
   "cell_type": "code",
   "execution_count": null,
   "id": "867d20f1-1128-437b-89c3-7f252534c1d9",
   "metadata": {},
   "outputs": [],
   "source": [
    "# Visualize historical data\n",
    "# Adjusted Close over time\n",
    "# Volume over time\n",
    "\n",
    "top = plt.subplot2grid((4,4), (0, 0), rowspan=3, colspan=4) \n",
    "top.plot(historical_df.index, historical_df['Adj Close'], label = 'Adjusted Close Price (USD)') \n",
    "plt.title('RTX Adjusted Close Price') \n",
    "plt.legend(loc=2) \n",
    "\n",
    "bottom = plt.subplot2grid((4,4), (3,0), rowspan=1, colspan=4) \n",
    "bottom.bar(historical_df.index, historical_df[\"Volume\"]) \n",
    "plt.title('RTX Daily Trading Volume') \n",
    "plt.gcf().set_size_inches(10,6) \n",
    "plt.subplots_adjust(hspace=0.8)"
   ]
  }
 ],
 "metadata": {
  "kernelspec": {
   "display_name": "Python 3 (ipykernel)",
   "language": "python",
   "name": "python3"
  },
  "language_info": {
   "codemirror_mode": {
    "name": "ipython",
    "version": 3
   },
   "file_extension": ".py",
   "mimetype": "text/x-python",
   "name": "python",
   "nbconvert_exporter": "python",
   "pygments_lexer": "ipython3",
   "version": "3.10.7"
  }
 },
 "nbformat": 4,
 "nbformat_minor": 5
}
