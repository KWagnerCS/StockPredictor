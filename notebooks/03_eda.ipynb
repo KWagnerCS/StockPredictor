{
 "cells": [
  {
   "cell_type": "markdown",
   "id": "edb6564b-0ddc-499c-9fcd-5fcdfe51cd2c",
   "metadata": {},
   "source": [
    "# Exploratory Data Analysis\n",
    "### Load processed data and explore data for patterns"
   ]
  },
  {
   "cell_type": "code",
   "execution_count": null,
   "id": "ad9127ae-7ae2-4a66-92c4-3e194bede39e",
   "metadata": {},
   "outputs": [],
   "source": []
  }
 ],
 "metadata": {
  "kernelspec": {
   "display_name": "Python 3 (ipykernel)",
   "language": "python",
   "name": "python3"
  },
  "language_info": {
   "codemirror_mode": {
    "name": "ipython",
    "version": 3
   },
   "file_extension": ".py",
   "mimetype": "text/x-python",
   "name": "python",
   "nbconvert_exporter": "python",
   "pygments_lexer": "ipython3",
   "version": "3.10.7"
  }
 },
 "nbformat": 4,
 "nbformat_minor": 5
}
